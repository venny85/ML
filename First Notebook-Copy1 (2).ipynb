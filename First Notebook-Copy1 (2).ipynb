{
 "cells": [
  {
   "cell_type": "markdown",
   "metadata": {},
   "source": [
    "<img src=\"https://elitedatascience.com/wp-content/uploads/2018/05/What-Goes-Into-a-Successful-Model.jpg\">"
   ]
  },
  {
   "cell_type": "code",
   "execution_count": 82,
   "metadata": {},
   "outputs": [],
   "source": [
    "import pandas as pd\n",
    "import numpy as np\n",
    "housing_data = pd.read_csv(\"housing.csv\")\n",
    "housing_data_original = pd.read_csv(\"housing.csv\")"
   ]
  },
  {
   "cell_type": "code",
   "execution_count": 81,
   "metadata": {},
   "outputs": [
    {
     "name": "stdout",
     "output_type": "stream",
     "text": [
      "<class 'pandas.core.frame.DataFrame'>\n",
      "RangeIndex: 20640 entries, 0 to 20639\n",
      "Data columns (total 10 columns):\n",
      "longitude             20640 non-null float64\n",
      "latitude              20640 non-null float64\n",
      "housing_median_age    20640 non-null float64\n",
      "total_rooms           20640 non-null float64\n",
      "total_bedrooms        20640 non-null float64\n",
      "population            20640 non-null float64\n",
      "households            20640 non-null float64\n",
      "median_income         20640 non-null float64\n",
      "median_house_value    20640 non-null float64\n",
      "ocean_proximity       20640 non-null object\n",
      "dtypes: float64(9), object(1)\n",
      "memory usage: 1.6+ MB\n"
     ]
    }
   ],
   "source": [
    "housing_data.loc[np.isnan(housing_data['total_bedrooms']),:] #Locates instances whose value is \"nan\" for total_bedrooms\n",
    "\n",
    "housing_data.info() # Here we get an overview of our data such as the # of entries per column and value type"
   ]
  },
  {
   "cell_type": "markdown",
   "metadata": {},
   "source": [
    "## Looking at the total_bedrooms attribute, we can see that it has less entries than the other attributes (20433 vs 20640).\n",
    "## As we learned, this is an example of poor data quality and could result in poor perfromance.\n",
    "In order to fix this we can either:\n",
    "\n",
    "- 1) remove the instances with missing features\n",
    "- 2) ignore the feature (total_bedrooms) if it's not significant\n",
    "- 3) Fill in the missing values using a strategy (i.e. with the median)\n",
    "- 4) train the model with/without the feature\n",
    "\n",
    "We will choose option 3 (and possibly option 4)."
   ]
  },
  {
   "cell_type": "code",
   "execution_count": 312,
   "metadata": {},
   "outputs": [],
   "source": [
    "import numpy as np #we import numpy to convert our pd.array to an np.array\n",
    "from sklearn.impute import SimpleImputer #SimpleImputer will fill-in the \"nan\" values\n",
    "imputer = SimpleImputer(strategy=\"median\") #Our fill-in strategy is to used the median\n",
    "\n",
    "\"Below we extract our total_bedroom instances to perform the transformation of missing values\"\n",
    "total_bedrooms = np.array(housing_data[\"total_bedrooms\"])\n",
    "\n",
    "\"\"\"\n",
    "Here we fit and transform our data by filling missing values with the median. \n",
    "We reshaped our numpy aarray from a 1D array to 2D per the requirements for the SimpleImputer object.\n",
    "\"\"\"\n",
    "\n",
    "fixed_total_bedrooms = imputer.fit_transform(total_bedrooms.reshape(-1,1))\n",
    "\n",
    "\"Now, we add the new transformed instances back into the original dataset\"\n",
    "housing_data['total_bedrooms'] = fixed_total_bedrooms"
   ]
  },
  {
   "cell_type": "markdown",
   "metadata": {},
   "source": [
    "Now, We will convert our categorical data to numbers by using OneHotEncoder and LabelEncoder\n",
    "And determine which is the best solution. LabelBinazer can do what both can do and therefore might be more efficient.\n",
    "\n",
    "## What's the difference?\n",
    "\n",
    "<B>LabelEncoder</B> - encode labels with a value between 0 and n_classes-1 where n is the number of distinct labels. If a label repeats it assigns the same value to as assigned earlier.\n",
    "\n",
    "<img src=\"https://i.imgur.com/tEogUAr.png\">\n",
    "\n",
    "Here we see that the labels received the following codes:\n",
    "\n",
    "- Never =>  0\n",
    "- Rarely     =>  1\n",
    "- Most Days  =>  2\n",
    "- Everyday   =>  3\n",
    "\n",
    "\n",
    "The problem here is since there are different numbers in the same column, the model will misunderstand the data to be in some kind of order, 0 < 1 <2.\n",
    "\n",
    "## <B>What's the solution?</B>\n",
    "\n",
    "\n",
    "<B>OneHotEncoder</B> - Instead of getting columns with unique values for the number of distinct labels, it uses a sparse matrix which is computationally more efficient and less intensive on storage as it only stores information about our non-zero elements.\n",
    "\n",
    "<B>Why?</B>\n",
    "\n",
    "Representing a sparse matrix by a 2D array with zero and non-zero elements leads to wastage of lots of memory as zeroes in the matrix are of no use in most cases. So, instead of storing zeroes with non-zero elements, we only store non-zero elements <B> (See Image Below) </B>.\n",
    "\n",
    "## <font color=\"red\"><B>In our image below, the condensed sparse matrix elements stores the non-zero elements while the dense matrix includes them both (zero and non-zero) which requires more storage</B></font> \n",
    "\n",
    "<img src=\"https://matteding.github.io/images/sparse_dense.gif\">\n",
    "\n",
    "If needed we can convert our sparse matrix to a dense matrix by adding toarray() to our OneHotEncoder:\n",
    "\n",
    "### <font color=\"blue\"><i>one_encoder.fit_transform(np.array(housing_cat).reshape(-1,1)).toarray()</i></font>\n",
    "\n",
    "https://www.geeksforgeeks.org/ml-one-hot-encoding-of-datasets-in-python/"
   ]
  },
  {
   "cell_type": "code",
   "execution_count": 115,
   "metadata": {},
   "outputs": [],
   "source": [
    "housing_cat=housing_data['ocean_proximity']"
   ]
  },
  {
   "cell_type": "code",
   "execution_count": 246,
   "metadata": {},
   "outputs": [
    {
     "data": {
      "text/plain": [
       "array([3, 3, 3, ..., 1, 1, 1])"
      ]
     },
     "execution_count": 246,
     "metadata": {},
     "output_type": "execute_result"
    }
   ],
   "source": [
    "from sklearn.preprocessing import LabelEncoder\n",
    "label_encoder = LabelEncoder()\n",
    "label_encoder.fit_transform(housing_cat)"
   ]
  },
  {
   "cell_type": "markdown",
   "metadata": {},
   "source": [
    "When initiating an OneHotEncoder object, we have to do the following:\n",
    "<B>\n",
    "1. Remap our pandas.series one-dimensional array to a 2D numpy array\n",
    "2. (optional). If you want to transform your compressed sparse matrix to a dense-matrix add the toarray() method to your encoder transformer as below:</B>\n",
    "    "
   ]
  },
  {
   "cell_type": "code",
   "execution_count": 248,
   "metadata": {},
   "outputs": [
    {
     "data": {
      "text/plain": [
       "<20640x5 sparse matrix of type '<class 'numpy.float64'>'\n",
       "\twith 20640 stored elements in Compressed Sparse Row format>"
      ]
     },
     "execution_count": 248,
     "metadata": {},
     "output_type": "execute_result"
    }
   ],
   "source": [
    "from sklearn.preprocessing import OneHotEncoder\n",
    "one_encoder = OneHotEncoder()\n",
    "one_encoder.fit_transform(np.array(housing_cat).reshape(-1,1)) #compressed sparse matrix\n",
    "one_encoder.fit_transform(np.array(housing_cat).reshape(-1,1)).toarray() #dense matrix"
   ]
  },
  {
   "cell_type": "markdown",
   "metadata": {},
   "source": [
    "With the LabelBinarizer object we can create either a condensed sparse matrix or a dense matriz by setting the sparse_output argument to <font color=\"green\"><B>True</B></font> (condensed sparse matrix) or <font color=\"green\"><B>False</B></font> (for a dense matrix)\n",
    "\n",
    "Ex:\n",
    "\n",
    "- LabelBinarizer(sparse_output=<font color=\"green\"><B>False</B></font>)\n",
    "- LabelBinarizer(sparse_output=<font color=\"green\"><B>True</B></font>)"
   ]
  },
  {
   "cell_type": "code",
   "execution_count": 252,
   "metadata": {},
   "outputs": [],
   "source": [
    "from sklearn.preprocessing import LabelBinarizer\n",
    "label_bin_dense = LabelBinarizer(sparse_output=False)\n",
    "label_bin_sparse = LabelBinarizer(sparse_output=True)"
   ]
  },
  {
   "cell_type": "code",
   "execution_count": 377,
   "metadata": {
    "scrolled": true
   },
   "outputs": [
    {
     "data": {
      "text/plain": [
       "<20640x5 sparse matrix of type '<class 'numpy.int32'>'\n",
       "\twith 20640 stored elements in Compressed Sparse Row format>"
      ]
     },
     "execution_count": 377,
     "metadata": {},
     "output_type": "execute_result"
    }
   ],
   "source": [
    "label_bin_dense.fit_transform(np.array(housing_cat).reshape(-1,1))\n",
    "label_bin_sparse.fit_transform(np.array(housing_cat).reshape(-1,1))"
   ]
  },
  {
   "cell_type": "code",
   "execution_count": 375,
   "metadata": {},
   "outputs": [
    {
     "name": "stdout",
     "output_type": "stream",
     "text": [
      "<class 'pandas.core.frame.DataFrame'>\n",
      "RangeIndex: 20640 entries, 0 to 20639\n",
      "Data columns (total 10 columns):\n",
      "longitude             20640 non-null float64\n",
      "latitude              20640 non-null float64\n",
      "housing_median_age    20640 non-null float64\n",
      "total_rooms           20640 non-null float64\n",
      "total_bedrooms        20640 non-null float64\n",
      "population            20640 non-null float64\n",
      "households            20640 non-null float64\n",
      "median_income         20640 non-null float64\n",
      "median_house_value    20640 non-null float64\n",
      "ocean_proximity       20640 non-null object\n",
      "dtypes: float64(9), object(1)\n",
      "memory usage: 1.6+ MB\n"
     ]
    }
   ],
   "source": [
    "housing_data.info()"
   ]
  },
  {
   "cell_type": "markdown",
   "metadata": {},
   "source": [
    "Continuing with the clean-up process, we can now prepare our data for stratified sampling. We determined that median_income was one of our most important variables due to it's high correlation with median_house_value.\n",
    "\n",
    "<font size=\"4\">Stratified sampling is a sampling method that breaks a population into smaller subgroups (\"strata\") and then uses simple random sampling in each stratum. It is commonly used to sample from long tailed distributions (e.g. data on the internet). Thus, we will convert our median_income into sub-groups (categories) ranging from 1-5. We will terminate our category at 5 and as a result, all the possible categories >5 (which is a small amount) will be part of 5. We will also shrink our category values to reduce the range </font>\n"
   ]
  },
  {
   "cell_type": "code",
   "execution_count": 423,
   "metadata": {},
   "outputs": [],
   "source": [
    "income_cat = housing_data['median_income']"
   ]
  },
  {
   "cell_type": "markdown",
   "metadata": {},
   "source": [
    "Below we observe our income categorie and notice the range from 1 to 11, with most of our values falling in the range of 1 - 5."
   ]
  },
  {
   "cell_type": "code",
   "execution_count": 425,
   "metadata": {},
   "outputs": [
    {
     "data": {
      "text/plain": [
       "3.1250     49\n",
       "15.0001    49\n",
       "2.8750     46\n",
       "4.1250     44\n",
       "2.6250     44\n",
       "           ..\n",
       "4.1514      1\n",
       "1.2614      1\n",
       "2.0294      1\n",
       "6.7079      1\n",
       "3.7306      1\n",
       "Name: median_income, Length: 12928, dtype: int64"
      ]
     },
     "execution_count": 425,
     "metadata": {},
     "output_type": "execute_result"
    }
   ],
   "source": [
    "income_cat.value_counts()"
   ]
  },
  {
   "cell_type": "code",
   "execution_count": 427,
   "metadata": {},
   "outputs": [
    {
     "data": {
      "text/plain": [
       "<matplotlib.axes._subplots.AxesSubplot at 0x255fd361c88>"
      ]
     },
     "execution_count": 427,
     "metadata": {},
     "output_type": "execute_result"
    },
    {
     "data": {
      "image/png": "[encoded data removed]",
      "text/plain": [
       "<Figure size 432x288 with 1 Axes>"
      ]
     },
     "metadata": {
      "needs_background": "light"
     },
     "output_type": "display_data"
    }
   ],
   "source": [
    "income_cat.hist()"
   ]
  },
  {
   "cell_type": "markdown",
   "metadata": {},
   "source": [
    "We will now shrink our values to help reduce the range of the higher number"
   ]
  },
  {
   "cell_type": "code",
   "execution_count": 426,
   "metadata": {},
   "outputs": [],
   "source": [
    "income_cat = np.ceil(income_cat / 1.5)"
   ]
  },
  {
   "cell_type": "markdown",
   "metadata": {},
   "source": [
    "<font size=\"3\" >Now we will group our categories in the range of 1 to 5, where all categories > 5 will be mapped to 5 using the numpy's built-in <B>where()</B> method</font>\n",
    "\n",
    "##### <font size=\"3\" >where(cond, other=nan, inplace=False, axis=None, level=None, errors='raise', try_cast=False) </font>\n",
    "\n",
    "<font size=\"3\" >Where() `cond` is True, keep the original value. Where False, replace with corresponding value from `other`. </font>"
   ]
  },
  {
   "cell_type": "code",
   "execution_count": 437,
   "metadata": {},
   "outputs": [],
   "source": [
    "income_cat.where(income_cat < 5, 5, inplace=True)"
   ]
  },
  {
   "cell_type": "markdown",
   "metadata": {},
   "source": [
    "- #### <font sizt=\"3\"> Now we can see that are categories are in the range of 1 to 5 </font>"
   ]
  },
  {
   "cell_type": "code",
   "execution_count": 440,
   "metadata": {},
   "outputs": [
    {
     "data": {
      "text/plain": [
       "<matplotlib.axes._subplots.AxesSubplot at 0x255fd4885c8>"
      ]
     },
     "execution_count": 440,
     "metadata": {},
     "output_type": "execute_result"
    },
    {
     "data": {
      "image/png": "[encoded data removed]",
      "text/plain": [
       "<Figure size 432x288 with 1 Axes>"
      ]
     },
     "metadata": {
      "needs_background": "light"
     },
     "output_type": "display_data"
    }
   ],
   "source": [
    "income_cat.hist()"
   ]
  },
  {
   "cell_type": "markdown",
   "metadata": {},
   "source": [
    "We will now start our stratified sampling. Our stratified object will give us the strata indicies and create our X and y training and test sets"
   ]
  },
  {
   "cell_type": "code",
   "execution_count": 455,
   "metadata": {},
   "outputs": [
    {
     "name": "stdout",
     "output_type": "stream",
     "text": [
      "TRAIN: [17606 18632 14650 ... 13908 11159 15775] TEST: [ 5241 10970 20351 ...  4019 12107  2398]\n"
     ]
    }
   ],
   "source": [
    "from sklearn.model_selection import StratifiedShuffleSplit\n",
    "\n",
    "sss = StratifiedShuffleSplit(n_splits=1, test_size=.2, random_state=42)\n",
    "\n",
    "\n",
    "for train_index, test_index in sss.split(housing_data, income_cat):\n",
    "    print(\"TRAIN:\", train_index, \"TEST:\", test_index)\n",
    "    X_train, X_test = housing_data.loc[train_index], housing_data.loc[test_index]\n",
    "    y_train, y_test = housing_data['median_income'][train_index], housing_data['median_income'][train_index]"
   ]
  },
  {
   "cell_type": "markdown",
   "metadata": {},
   "source": [
    "\n",
    "------"
   ]
  },
  {
   "cell_type": "markdown",
   "metadata": {},
   "source": [
    "# <center>Automating Our Preprocessing Steps</center>"
   ]
  },
  {
   "cell_type": "markdown",
   "metadata": {},
   "source": [
    "- ### Now we can proceed to the final steps in our data processing. Given that we have conducted a number of steps, it would be inefficient if we followed these manual steps each time.\n",
    "\n",
    "- ### Therefore, we will automate these steps so we don't have to always reinvent the wheel!\n",
    "- ### We will achieve automation using sklearn's Pipeline object which sequentially apply a list of transforms and a final estimator to our data.\n",
    "-----\n",
    "\n",
    "- ### First, we create a class that will extract our dataFrame columns by datatype which is built-in to Panda's dataframes"
   ]
  },
  {
   "cell_type": "code",
   "execution_count": 471,
   "metadata": {},
   "outputs": [],
   "source": [
    "from sklearn.base import BaseEstimator, TransformerMixin\n",
    "\n",
    "\n",
    "class DataFrameByDtype(BaseEstimator, TransformerMixin):\n",
    "    def __init__(self, numeric=True):\n",
    "        self.numeric = numeric\n",
    "    def fit(self, X, y=None):\n",
    "        return self\n",
    "    def transform(self, X, y=None):\n",
    "        if numeric:\n",
    "            return X.select_dtypes(\"float\")\n",
    "        else:\n",
    "            return X.select_dtypes(\"O\")"
   ]
  },
  {
   "cell_type": "markdown",
   "metadata": {},
   "source": [
    "-----\n",
    "### Now we can include our feature engineering class which will be responsible for transforming our data before we feed it to our ML model with the purpose of making it more accurate.\n",
    "-----\n",
    "\n",
    "### Below we create our <font color='blue' size = \"4\"><B>CombinedAttributesAdder</B></font> class which does the following:\n",
    "\n",
    "\n",
    "- <font size=\"3\">It targets particular attributes such as \"total_rooms\", \"total_bedrooms\", \"population\", and \"households\"\n",
    "- The associated column numbers for the attributes above are assigned to variable\n",
    "- In our <B>transform()</B> method, we develop the following new features by combining existing features:\n",
    "    - <B>rooms_per_household = total_rooms / households</B>\n",
    "    - <B>population_per_household = population / household</B>\n",
    "    - We also create <B>bedrooms_per_room = total_bedrooms/total_rooms</B> if add_bedrooms_per_room is <font color=\"green\">True</font>\n",
    "</font>"
   ]
  },
  {
   "cell_type": "code",
   "execution_count": 486,
   "metadata": {
    "scrolled": true
   },
   "outputs": [],
   "source": [
    "from sklearn.base import BaseEstimator, TransformerMixin \n",
    "rooms_ix, bedrooms_ix, population_ix, household_ix = \"total_rooms\", \"total_bedrooms\", \"population\", \"households\"\n",
    "\n",
    "class CombinedAttributesAdder(BaseEstimator, TransformerMixin): \n",
    "    def __init__(self, add_bedrooms_per_room = True): # no *args or **kargs \n",
    "        self.add_bedrooms_per_room = add_bedrooms_per_room \n",
    "    def fit(self, X, y=None): \n",
    "        return self # nothing else to do \n",
    "    def transform(self, X, y=None): \n",
    "        X['rooms_per_household'] = X[rooms_ix] / X[household_ix] \n",
    "        X['population_per_household'] = X[population_ix] / X[household_ix] \n",
    "        if self.add_bedrooms_per_room:\n",
    "            X['bedrooms_per_room'] = X[bedrooms_ix] / X[rooms_ix]\n",
    "\n",
    "attr_adder = CombinedAttributesAdder(add_bedrooms_per_room=True)\n",
    "\n",
    "#pd.DataFrame(attr_adder.fit_transform(housing_data.values))\n",
    "\n",
    "attr_adder.fit_transform(housing_data)"
   ]
  },
  {
   "cell_type": "code",
   "execution_count": 489,
   "metadata": {},
   "outputs": [
    {
     "data": {
      "text/plain": [
       "longitude                  -0.015176\n",
       "latitude                   -0.079809\n",
       "housing_median_age         -0.119034\n",
       "total_rooms                 0.198050\n",
       "total_bedrooms             -0.007617\n",
       "population                  0.004834\n",
       "households                  0.013033\n",
       "median_income               1.000000\n",
       "median_house_value          0.688075\n",
       "rooms_per_household         0.326895\n",
       "population_per_household    0.018766\n",
       "bedrooms_per_room          -0.545298\n",
       "Name: median_income, dtype: float64"
      ]
     },
     "execution_count": 489,
     "metadata": {},
     "output_type": "execute_result"
    }
   ],
   "source": [
    "housing_data.corr()['median_income']"
   ]
  }
 ],
 "metadata": {
  "kernelspec": {
   "display_name": "Python 3",
   "language": "python",
   "name": "python3"
  },
  "language_info": {
   "codemirror_mode": {
    "name": "ipython",
    "version": 3
   },
   "file_extension": ".py",
   "mimetype": "text/x-python",
   "name": "python",
   "nbconvert_exporter": "python",
   "pygments_lexer": "ipython3",
   "version": "3.7.4"
  }
 },
 "nbformat": 4,
 "nbformat_minor": 2
}
